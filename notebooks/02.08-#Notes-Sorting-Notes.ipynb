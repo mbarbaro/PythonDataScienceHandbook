{
 "cells": [
  {
   "cell_type": "markdown",
   "metadata": {},
   "source": [
    "# Sorting Arrays\n",
    "## Started 01/25/2018"
   ]
  },
  {
   "cell_type": "markdown",
   "metadata": {},
   "source": [
    "__Selection sort__ finds minimum value from a list and swaps it to the position of the list that it's currently indexed to. The value that was at the indexed position get moved to the location of the minimum value. Must go through every item in the list, and find the min value in the entire list, so computation time scales in proportion to the square of the number of items."
   ]
  },
  {
   "cell_type": "code",
   "execution_count": 1,
   "metadata": {},
   "outputs": [],
   "source": [
    "import numpy as np"
   ]
  },
  {
   "cell_type": "code",
   "execution_count": 2,
   "metadata": {},
   "outputs": [],
   "source": [
    "def selection_sort(x):\n",
    "    for i in range(len(x)):\n",
    "        swap = i + np.argmin(x[i:]) #argmin gives index of min value\n",
    "        (x[i], x[swap]) = (x[swap], x[i])\n",
    "    return x"
   ]
  },
  {
   "cell_type": "code",
   "execution_count": 3,
   "metadata": {},
   "outputs": [
    {
     "data": {
      "text/plain": [
       "array([1, 2, 3, 4, 5])"
      ]
     },
     "execution_count": 3,
     "metadata": {},
     "output_type": "execute_result"
    }
   ],
   "source": [
    "x = np.array([3, 2, 1, 4, 5])\n",
    "selection_sort(x)"
   ]
  },
  {
   "cell_type": "code",
   "execution_count": 4,
   "metadata": {},
   "outputs": [
    {
     "data": {
      "text/plain": [
       "array([1, 2, 3, 4, 5])"
      ]
     },
     "execution_count": 4,
     "metadata": {},
     "output_type": "execute_result"
    }
   ],
   "source": [
    "y = np.array([2, 1, 4, 3, 5])\n",
    "selection_sort(y)"
   ]
  },
  {
   "cell_type": "markdown",
   "metadata": {},
   "source": [
    "Here's a fun one:"
   ]
  },
  {
   "cell_type": "code",
   "execution_count": 5,
   "metadata": {},
   "outputs": [],
   "source": [
    "def bogosort(x):\n",
    "    while np.any(x[:-1] > x[1:]):\n",
    "        print(\"reversed: \", x[:-1])\n",
    "        print(\"x[1:]: \", x[1:])\n",
    "        np.random.shuffle(x)\n",
    "    return x"
   ]
  },
  {
   "cell_type": "code",
   "execution_count": 6,
   "metadata": {},
   "outputs": [
    {
     "ename": "NameError",
     "evalue": "name 'c' is not defined",
     "output_type": "error",
     "traceback": [
      "\u001b[1;31m---------------------------------------------------------------------------\u001b[0m",
      "\u001b[1;31mNameError\u001b[0m                                 Traceback (most recent call last)",
      "\u001b[1;32m<ipython-input-6-bcd5675ecac9>\u001b[0m in \u001b[0;36m<module>\u001b[1;34m()\u001b[0m\n\u001b[1;32m----> 1\u001b[1;33m \u001b[0mc\u001b[0m\u001b[1;33m\u001b[0m\u001b[0m\n\u001b[0m\u001b[0;32m      2\u001b[0m \u001b[0mbogosort\u001b[0m\u001b[1;33m(\u001b[0m\u001b[0mx\u001b[0m\u001b[1;33m)\u001b[0m\u001b[1;33m\u001b[0m\u001b[0m\n",
      "\u001b[1;31mNameError\u001b[0m: name 'c' is not defined"
     ]
    }
   ],
   "source": [
    "c\n",
    "bogosort(x)"
   ]
  },
  {
   "cell_type": "code",
   "execution_count": null,
   "metadata": {},
   "outputs": [],
   "source": [
    "# computation time based on chance!"
   ]
  },
  {
   "cell_type": "markdown",
   "metadata": {},
   "source": [
    "## Numpy built in sort functions that are faster\n",
    "``np.sort`` <br>\n",
    "``np.argsort``"
   ]
  },
  {
   "cell_type": "code",
   "execution_count": null,
   "metadata": {},
   "outputs": [],
   "source": [
    "x = np.array([3, 2, 1, 4, 5])\n",
    "np.sort(x) #returns sorted array, but doesn't modify x"
   ]
  },
  {
   "cell_type": "code",
   "execution_count": null,
   "metadata": {},
   "outputs": [],
   "source": [
    "x"
   ]
  },
  {
   "cell_type": "code",
   "execution_count": null,
   "metadata": {},
   "outputs": [],
   "source": [
    "# to sort the array in place, use sort on the np array\n",
    "x.sort()\n",
    "print(x)"
   ]
  },
  {
   "cell_type": "code",
   "execution_count": null,
   "metadata": {},
   "outputs": [],
   "source": [
    "x = np.array([3, 2, 1, 4, 5])\n",
    "i = np.argsort(x) #returns the index into x to make a sorted list\n",
    "print(i)"
   ]
  },
  {
   "cell_type": "code",
   "execution_count": null,
   "metadata": {},
   "outputs": [],
   "source": [
    "y = x[i]\n",
    "y"
   ]
  },
  {
   "cell_type": "code",
   "execution_count": null,
   "metadata": {},
   "outputs": [],
   "source": [
    "# can provide an axis argument "
   ]
  },
  {
   "cell_type": "markdown",
   "metadata": {},
   "source": [
    "## Re-doing sorting k nearest exercise from yesterday"
   ]
  },
  {
   "cell_type": "code",
   "execution_count": 14,
   "metadata": {},
   "outputs": [
    {
     "data": {
      "text/plain": [
       "<matplotlib.collections.PathCollection at 0x2c870227dd8>"
      ]
     },
     "execution_count": 14,
     "metadata": {},
     "output_type": "execute_result"
    },
    {
     "data": {
      "image/png": "[encoded data removed]",
      "text/plain": [
       "<matplotlib.figure.Figure at 0x2c870171d30>"
      ]
     },
     "metadata": {},
     "output_type": "display_data"
    }
   ],
   "source": [
    "# givens\n",
    "rand = np.random.RandomState(42)\n",
    "X = rand.rand(10, 2)\n",
    "%matplotlib inline\n",
    "import matplotlib.pyplot as plt\n",
    "import seaborn; seaborn.set()\n",
    "plt.scatter(X[:, 0], X[:,1], s=100)"
   ]
  },
  {
   "cell_type": "code",
   "execution_count": 15,
   "metadata": {},
   "outputs": [
    {
     "name": "stdout",
     "output_type": "stream",
     "text": [
      "(10, 1, 2)\n",
      "(1, 10, 2)\n",
      "(10, 10, 2)\n"
     ]
    }
   ],
   "source": [
    "# broadcast element difference table\n",
    "XRows = X[:, np.newaxis, :]\n",
    "XColumns = X[np.newaxis, :, :]\n",
    "print(XRows.shape)\n",
    "print(XColumns.shape)\n",
    "diff = XRows - XColumns\n",
    "print(diff.shape)"
   ]
  },
  {
   "cell_type": "markdown",
   "metadata": {},
   "source": [
    "Duplicated X and added an extra dimension to each copy. By subtracting one from the other, numpy broadcasts the arrays, and we're left with two 10x10 matrices, one holding the differences between X values, the other between Y values (first column of X were plotted as X values, second column of X as Y values)."
   ]
  },
  {
   "cell_type": "code",
   "execution_count": 22,
   "metadata": {},
   "outputs": [
    {
     "name": "stdout",
     "output_type": "stream",
     "text": [
      "(10, 10, 2)\n",
      "(10, 10)\n"
     ]
    }
   ],
   "source": [
    "sqdiff = diff ** 2 #(10, 10, 2)\n",
    "print(sqdiff.shape)\n",
    "sumsqdiff = np.sum(sqdiff, -1)\n",
    "print(sumsqdiff.shape)"
   ]
  },
  {
   "cell_type": "code",
   "execution_count": 23,
   "metadata": {},
   "outputs": [
    {
     "data": {
      "text/plain": [
       "array([[ 0.        ,  0.25171654,  0.67933117,  0.10729142,  0.11021119,\n",
       "         0.12565305,  0.75487265,  0.62590345,  0.1863819 ,  0.43821601],\n",
       "       [ 0.25171654,  0.        ,  0.52769893,  0.52572083,  0.02910074,\n",
       "         0.64393098,  0.1593326 ,  0.47512176,  0.18843303,  0.18454216],\n",
       "       [ 0.67933117,  0.52769893,  0.        ,  0.51394921,  0.50290096,\n",
       "         0.68080058,  0.46072414,  0.00141727,  0.15795558,  0.09442377],\n",
       "       [ 0.10729142,  0.52572083,  0.51394921,  0.        ,  0.31987984,\n",
       "         0.01216687,  1.02713477,  0.48148903,  0.17716149,  0.47033641],\n",
       "       [ 0.11021119,  0.02910074,  0.50290096,  0.31987984,  0.        ,\n",
       "         0.40557444,  0.29926414,  0.45108072,  0.12173825,  0.20237694],\n",
       "       [ 0.12565305,  0.64393098,  0.68080058,  0.01216687,  0.40557444,\n",
       "         0.        ,  1.23302708,  0.64458914,  0.27862329,  0.62982499],\n",
       "       [ 0.75487265,  0.1593326 ,  0.46072414,  1.02713477,  0.29926414,\n",
       "         1.23302708,  0.        ,  0.42414057,  0.37660024,  0.16662198],\n",
       "       [ 0.62590345,  0.47512176,  0.00141727,  0.48148903,  0.45108072,\n",
       "         0.64458914,  0.42414057,  0.        ,  0.13150712,  0.07418619],\n",
       "       [ 0.1863819 ,  0.18843303,  0.15795558,  0.17716149,  0.12173825,\n",
       "         0.27862329,  0.37660024,  0.13150712,  0.        ,  0.07084299],\n",
       "       [ 0.43821601,  0.18454216,  0.09442377,  0.47033641,  0.20237694,\n",
       "         0.62982499,  0.16662198,  0.07418619,  0.07084299,  0.        ]])"
      ]
     },
     "execution_count": 23,
     "metadata": {},
     "output_type": "execute_result"
    }
   ],
   "source": [
    "sumsqdiff"
   ]
  },
  {
   "cell_type": "markdown",
   "metadata": {},
   "source": [
    "So a difference between all Xs and Ys, squared, and added together, is all the hypotenuses (distances) between each point. With a 10x10 matrix, what we have is an entry for every point in our original 10x2 array, where each row is the distance from a point in our original matrix to every other point. 10 rows, 10 points in the original. Redundancies and 0s because a point is 0 from itself, and because the distance from point 1 to point 2 should also be shown in the row for point 2, as the distance from point 2 to point 1. "
   ]
  },
  {
   "cell_type": "code",
   "execution_count": 25,
   "metadata": {},
   "outputs": [
    {
     "name": "stdout",
     "output_type": "stream",
     "text": [
      "[[0 3 4 5 8 1 9 7 2 6]\n",
      " [1 4 6 9 8 0 7 3 2 5]\n",
      " [2 7 9 8 6 4 3 1 0 5]\n",
      " [3 5 0 8 4 9 7 2 1 6]\n",
      " [4 1 0 8 9 6 3 5 7 2]\n",
      " [5 3 0 8 4 9 1 7 2 6]\n",
      " [6 1 9 4 8 7 2 0 3 5]\n",
      " [7 2 9 8 6 4 1 3 0 5]\n",
      " [8 9 4 7 2 3 0 1 5 6]\n",
      " [9 8 7 2 6 1 4 0 3 5]]\n"
     ]
    }
   ],
   "source": [
    "distrank = np.argsort(sumsqdiff)\n",
    "print(distrank)"
   ]
  },
  {
   "cell_type": "code",
   "execution_count": 26,
   "metadata": {},
   "outputs": [],
   "source": [
    "K = 2\n",
    "ksort = np.argpartition(sumsqdiff, K + 1, axis=1)"
   ]
  },
  {
   "cell_type": "code",
   "execution_count": 28,
   "metadata": {},
   "outputs": [
    {
     "name": "stdout",
     "output_type": "stream",
     "text": [
      "[[3 0 4 5 8 9 1 7 2 6]\n",
      " [1 4 6 9 3 5 2 7 8 0]\n",
      " [2 7 9 8 6 4 5 1 3 0]\n",
      " [3 5 0 8 4 1 6 7 2 9]\n",
      " [1 4 0 8 9 6 2 7 5 3]\n",
      " [5 3 0 8 4 1 6 7 2 9]\n",
      " [1 9 6 4 3 5 2 7 8 0]\n",
      " [7 2 9 8 6 4 5 1 3 0]\n",
      " [8 9 4 7 2 3 0 1 5 6]\n",
      " [8 7 9 2 1 6 4 5 3 0]]\n"
     ]
    }
   ],
   "source": [
    "print(ksort)"
   ]
  },
  {
   "cell_type": "code",
   "execution_count": 33,
   "metadata": {},
   "outputs": [
    {
     "name": "stdout",
     "output_type": "stream",
     "text": [
      "[[ 0.37454012  0.95071431]\n",
      " [ 0.73199394  0.59865848]\n",
      " [ 0.15601864  0.15599452]\n",
      " [ 0.05808361  0.86617615]\n",
      " [ 0.60111501  0.70807258]\n",
      " [ 0.02058449  0.96990985]\n",
      " [ 0.83244264  0.21233911]\n",
      " [ 0.18182497  0.18340451]\n",
      " [ 0.30424224  0.52475643]\n",
      " [ 0.43194502  0.29122914]]\n"
     ]
    }
   ],
   "source": [
    "print(X)"
   ]
  },
  {
   "cell_type": "code",
   "execution_count": 36,
   "metadata": {},
   "outputs": [
    {
     "name": "stdout",
     "output_type": "stream",
     "text": [
      "X1, Y1:  [ 0.05808361  0.86617615]  X2, Y2:  [ 0.37454012  0.95071431]\n",
      "X1, Y1:  [ 0.37454012  0.95071431]  X2, Y2:  [ 0.37454012  0.95071431]\n",
      "X1, Y1:  [ 0.60111501  0.70807258]  X2, Y2:  [ 0.37454012  0.95071431]\n",
      "X1, Y1:  [ 0.73199394  0.59865848]  X2, Y2:  [ 0.73199394  0.59865848]\n",
      "X1, Y1:  [ 0.60111501  0.70807258]  X2, Y2:  [ 0.73199394  0.59865848]\n",
      "X1, Y1:  [ 0.83244264  0.21233911]  X2, Y2:  [ 0.73199394  0.59865848]\n",
      "X1, Y1:  [ 0.15601864  0.15599452]  X2, Y2:  [ 0.15601864  0.15599452]\n",
      "X1, Y1:  [ 0.18182497  0.18340451]  X2, Y2:  [ 0.15601864  0.15599452]\n",
      "X1, Y1:  [ 0.43194502  0.29122914]  X2, Y2:  [ 0.15601864  0.15599452]\n",
      "X1, Y1:  [ 0.05808361  0.86617615]  X2, Y2:  [ 0.05808361  0.86617615]\n",
      "X1, Y1:  [ 0.02058449  0.96990985]  X2, Y2:  [ 0.05808361  0.86617615]\n",
      "X1, Y1:  [ 0.37454012  0.95071431]  X2, Y2:  [ 0.05808361  0.86617615]\n",
      "X1, Y1:  [ 0.73199394  0.59865848]  X2, Y2:  [ 0.60111501  0.70807258]\n",
      "X1, Y1:  [ 0.60111501  0.70807258]  X2, Y2:  [ 0.60111501  0.70807258]\n",
      "X1, Y1:  [ 0.37454012  0.95071431]  X2, Y2:  [ 0.60111501  0.70807258]\n",
      "X1, Y1:  [ 0.02058449  0.96990985]  X2, Y2:  [ 0.02058449  0.96990985]\n",
      "X1, Y1:  [ 0.05808361  0.86617615]  X2, Y2:  [ 0.02058449  0.96990985]\n",
      "X1, Y1:  [ 0.37454012  0.95071431]  X2, Y2:  [ 0.02058449  0.96990985]\n",
      "X1, Y1:  [ 0.73199394  0.59865848]  X2, Y2:  [ 0.83244264  0.21233911]\n",
      "X1, Y1:  [ 0.43194502  0.29122914]  X2, Y2:  [ 0.83244264  0.21233911]\n",
      "X1, Y1:  [ 0.83244264  0.21233911]  X2, Y2:  [ 0.83244264  0.21233911]\n",
      "X1, Y1:  [ 0.18182497  0.18340451]  X2, Y2:  [ 0.18182497  0.18340451]\n",
      "X1, Y1:  [ 0.15601864  0.15599452]  X2, Y2:  [ 0.18182497  0.18340451]\n",
      "X1, Y1:  [ 0.43194502  0.29122914]  X2, Y2:  [ 0.18182497  0.18340451]\n",
      "X1, Y1:  [ 0.30424224  0.52475643]  X2, Y2:  [ 0.30424224  0.52475643]\n",
      "X1, Y1:  [ 0.43194502  0.29122914]  X2, Y2:  [ 0.30424224  0.52475643]\n",
      "X1, Y1:  [ 0.60111501  0.70807258]  X2, Y2:  [ 0.30424224  0.52475643]\n",
      "X1, Y1:  [ 0.30424224  0.52475643]  X2, Y2:  [ 0.43194502  0.29122914]\n",
      "X1, Y1:  [ 0.18182497  0.18340451]  X2, Y2:  [ 0.43194502  0.29122914]\n",
      "X1, Y1:  [ 0.43194502  0.29122914]  X2, Y2:  [ 0.43194502  0.29122914]\n"
     ]
    }
   ],
   "source": [
    "for i in range(X.shape[0]):\n",
    "    for j in ksort[i, :K+1]:\n",
    "        print(\"X1, Y1: \", X[j], \" X2, Y2: \", X[i])\n",
    "        "
   ]
  },
  {
   "cell_type": "code",
   "execution_count": 35,
   "metadata": {},
   "outputs": [
    {
     "data": {
      "image/png": "[encoded data removed]",
      "text/plain": [
       "<matplotlib.figure.Figure at 0x2c8700aa9e8>"
      ]
     },
     "metadata": {},
     "output_type": "display_data"
    }
   ],
   "source": [
    "# draw lines from each point to its two nearest neighbors\n",
    "K = 2\n",
    "\n",
    "for i in range(X.shape[0]):\n",
    "    for j in ksort[i, :K+1]:\n",
    "        # plot a line from X[i] to X[j]\n",
    "        # use some zip magic to make it happen:\n",
    "        plt.plot(*zip(X[j], X[i]), color='black')"
   ]
  },
  {
   "cell_type": "markdown",
   "metadata": {},
   "source": [
    "## End 01/26/2018"
   ]
  },
  {
   "cell_type": "code",
   "execution_count": null,
   "metadata": {},
   "outputs": [],
   "source": []
  }
 ],
 "metadata": {
  "kernelspec": {
   "display_name": "Python 3",
   "language": "python",
   "name": "python3"
  },
  "language_info": {
   "codemirror_mode": {
    "name": "ipython",
    "version": 3
   },
   "file_extension": ".py",
   "mimetype": "text/x-python",
   "name": "python",
   "nbconvert_exporter": "python",
   "pygments_lexer": "ipython3",
   "version": "3.6.3"
  }
 },
 "nbformat": 4,
 "nbformat_minor": 2
}
